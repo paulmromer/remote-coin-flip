{
 "cells": [
  {
   "cell_type": "markdown",
   "metadata": {
    "scrolled": true
   },
   "source": [
    "### Instructions:\n",
    "\n",
    "- The two players agree on a one-way function. \n",
    "- The first player picks a large random digital integer and uses the one-way function to calculate the corresponding hex string. \n",
    "- The first player saves the integer and keeps it secret; then sends the hex string to the second player.\n",
    "- On receipt, the second player makes a guess about whether the integer is even or odd.\n",
    "- The first player sends the digital integer to the second player, who confirms that it generates the hex string.\n"
   ]
  },
  {
   "cell_type": "markdown",
   "metadata": {},
   "source": [
    "### Define the one way function \n",
    "\n",
    "1. Import the function shake_128 from the hashlib library"
   ]
  },
  {
   "cell_type": "code",
   "execution_count": null,
   "metadata": {},
   "outputs": [],
   "source": [
    "from hashlib import shake_128  # click into the cell and use Shift+Enter to run this the code"
   ]
  },
  {
   "cell_type": "markdown",
   "metadata": {},
   "source": [
    "2. Define a one-way function that sends integers with more than 20 digits to hexidecimal strings with more than 64 characters.\n",
    "\n",
    "The function defined here relies on SHAKE128 extensible output function (XOF) from the Keccak family, the family of functions that won the NIST competition to find a more secure replacement for SHA-2. \n",
    "\n",
    "For more information, e.g. https://en.wikipedia.org/wiki/SHA-3 and https://nvlpubs.nist.gov/nistpubs/fips/nist.fips.202.pdf."
   ]
  },
  {
   "cell_type": "code",
   "execution_count": null,
   "metadata": {},
   "outputs": [],
   "source": [
    "def hex_hash(n):\n",
    "    if n < 10**19:\n",
    "        return \"ERROR: Your integer should be more than 20 digits long.\"\n",
    "    s = str(n)\n",
    "    b = s.encode()\n",
    "    hash_object = shake_128(b)\n",
    "    digest = hash_object.hexdigest(32)   # The parameter for the length of the digest has units of bytes;\n",
    "                                         # 32 bytes implies 64 hexadecimal characters\n",
    "    return digest"
   ]
  },
  {
   "cell_type": "markdown",
   "metadata": {},
   "source": [
    "3. Illustrations of the use of the one-way function. "
   ]
  },
  {
   "cell_type": "code",
   "execution_count": null,
   "metadata": {},
   "outputs": [],
   "source": [
    "hex_hash(12345)"
   ]
  },
  {
   "cell_type": "code",
   "execution_count": null,
   "metadata": {},
   "outputs": [],
   "source": [
    "hex_hash(12345678901234567890)"
   ]
  },
  {
   "cell_type": "code",
   "execution_count": null,
   "metadata": {
    "scrolled": true
   },
   "outputs": [],
   "source": [
    "hex_hash(1837709283709237045137809341397298934329883297023883729730)"
   ]
  }
 ],
 "metadata": {
  "kernelspec": {
   "display_name": "Python 3",
   "language": "python",
   "name": "python3"
  },
  "language_info": {
   "codemirror_mode": {
    "name": "ipython",
    "version": 3
   },
   "file_extension": ".py",
   "mimetype": "text/x-python",
   "name": "python",
   "nbconvert_exporter": "python",
   "pygments_lexer": "ipython3",
   "version": "3.7.0"
  }
 },
 "nbformat": 4,
 "nbformat_minor": 2
}
